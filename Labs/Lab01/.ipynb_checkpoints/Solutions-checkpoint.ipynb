{
 "metadata": {
  "name": "",
  "signature": "sha256:b149e12600343ba53aba630165882d1397a9eaf913e88be2fd7fdf5599b250bf"
 },
 "nbformat": 3,
 "nbformat_minor": 0,
 "worksheets": [
  {
   "cells": [
    {
     "cell_type": "code",
     "collapsed": false,
     "input": [
      "import string\n",
      "import numpy as np\n",
      "from collections import Counter\n",
      "import urllib2"
     ],
     "language": "python",
     "metadata": {},
     "outputs": [],
     "prompt_number": 1
    },
    {
     "cell_type": "code",
     "collapsed": false,
     "input": [
      "def let2num(c):\n",
      "    \"\"\"Convert lowercase character to number.\"\"\"\n",
      "    return ord(c) - ord('a')\n",
      "\n",
      "def num2let(n):\n",
      "    \"\"\"Convert number to lowercase character.\"\"\"\n",
      "    return chr(ord('a') + n)\n",
      "\n",
      "def encode(cs, n):\n",
      "    \"\"\"Caesar cipher with offset n.\"\"\"\n",
      "    return ''.join([num2let((let2num(c) + n) % 26) if c.islower() else c for c in cs])"
     ],
     "language": "python",
     "metadata": {},
     "outputs": [],
     "prompt_number": 15
    },
    {
     "cell_type": "code",
     "collapsed": false,
     "input": [
      "def chisq(os, es):\n",
      "    \"\"\"Retruns chi-square score given observed os and expected es frequencies.\"\"\"\n",
      "    os = np.array(os)\n",
      "    es = np.array(es)\n",
      "    return np.sum((os - es)**2.0/es)"
     ],
     "language": "python",
     "metadata": {},
     "outputs": [],
     "prompt_number": 16
    },
    {
     "cell_type": "code",
     "collapsed": false,
     "input": [
      "def freqs(text):\n",
      "    \"\"\"Returns relative frequenies of lowercase letter in text.\"\"\"\n",
      "    ctr = Counter(text)\n",
      "    counts = np.array([ctr[c] for c in string.lowercase], dtype='float')\n",
      "    return counts/counts.sum()"
     ],
     "language": "python",
     "metadata": {},
     "outputs": [],
     "prompt_number": 18
    },
    {
     "cell_type": "code",
     "collapsed": false,
     "input": [
      "# Use Pride and Prejudice to build up base frequencies\n",
      "text = urllib2.urlopen('http://www.gutenberg.org/ebooks/1342.txt.utf-8').read()\n",
      "ref_freqs = freqs(text)"
     ],
     "language": "python",
     "metadata": {},
     "outputs": [],
     "prompt_number": 19
    },
    {
     "cell_type": "code",
     "collapsed": false,
     "input": [
      "def crack(code):\n",
      "    \"\"\"Find the original text by identifying the most likely encoding offset.\"\"\"\n",
      "    shift = np.argmin([chisq(freqs(encode(code, n)), ref_freqs) for n in range(26)])\n",
      "    return encode(code, shift)"
     ],
     "language": "python",
     "metadata": {},
     "outputs": [],
     "prompt_number": 20
    },
    {
     "cell_type": "code",
     "collapsed": false,
     "input": [
      "cs = 'Statistical computing and computation is fun!'\n",
      "code = encode(cs, np.random.randint(1, 26))\n",
      "print code\n",
      "crack(code)"
     ],
     "language": "python",
     "metadata": {},
     "outputs": [
      {
       "output_type": "stream",
       "stream": "stdout",
       "text": [
        "Sxexmwxmgep gsqtyxmrk erh gsqtyxexmsr mw jyr!\n"
       ]
      },
      {
       "metadata": {},
       "output_type": "pyout",
       "prompt_number": 21,
       "text": [
        "'Statistical computing and computation is fun!'"
       ]
      }
     ],
     "prompt_number": 21
    },
    {
     "cell_type": "code",
     "collapsed": false,
     "input": [],
     "language": "python",
     "metadata": {},
     "outputs": []
    }
   ],
   "metadata": {}
  }
 ]
}