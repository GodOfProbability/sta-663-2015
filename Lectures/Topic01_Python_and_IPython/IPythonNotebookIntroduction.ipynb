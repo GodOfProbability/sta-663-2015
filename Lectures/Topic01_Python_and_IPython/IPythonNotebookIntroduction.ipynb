{
 "metadata": {
  "name": "",
  "signature": "sha256:25c2fa836701572e458fac4dad78324d6f5c4bde99c3c0bc358fb2b4453fa68c"
 },
 "nbformat": 3,
 "nbformat_minor": 0,
 "worksheets": [
  {
   "cells": [
    {
     "cell_type": "markdown",
     "metadata": {},
     "source": [
      "Getting started with Python and the IPython notebook\n",
      "====\n",
      "\n"
     ]
    },
    {
     "cell_type": "markdown",
     "metadata": {},
     "source": [
      "The IPython notebook is an interactive, web-based environment that allows one to combine code, text and graphics into one unified document. All of the lectures in this course have been developed using this tool.  In this lecture, we will introduce the notebook interface and demonstrate some of its features.  "
     ]
    },
    {
     "cell_type": "heading",
     "level": 1,
     "metadata": {},
     "source": [
      "Cells"
     ]
    },
    {
     "cell_type": "markdown",
     "metadata": {},
     "source": [
      "The IPython notebook has two types of cells: \n",
      "    \n",
      "    * Markdown\n",
      "    * Code\n",
      "    \n",
      "Markdown is for text, and even allows some typesetting of mathematics, while the code cells allow for coding in Python and access to many other packages, compilers, etc."
     ]
    },
    {
     "cell_type": "heading",
     "level": 2,
     "metadata": {},
     "source": [
      "Markdown"
     ]
    },
    {
     "cell_type": "markdown",
     "metadata": {},
     "source": [
      "To enter a markdown cell, just choose the cell tab and set the type to 'Markdown'. "
     ]
    },
    {
     "cell_type": "code",
     "collapsed": false,
     "input": [
      "from IPython.display import Image"
     ],
     "language": "python",
     "metadata": {},
     "outputs": []
    },
    {
     "cell_type": "code",
     "collapsed": false,
     "input": [
      "Image(filename='/home/janice/Pictures/Screenshot from 2014-12-17 19:23:09.png')"
     ],
     "language": "python",
     "metadata": {},
     "outputs": []
    },
    {
     "cell_type": "markdown",
     "metadata": {},
     "source": [
      "The current cell is now in Markdown mode, and whatever is entered is assumed to be markdown code. For example, text can be put into *italics* or **bold**.  A bulleted list can be entered as follows:\n",
      "\n",
      "Bulleted List\n",
      "* Item 1\n",
      "* Item 2\n",
      "\n",
      "Markdown has many features, and a good reference is located at:\n",
      "\n",
      "http://daringfireball.net/projects/markdown/syntax"
     ]
    },
    {
     "cell_type": "heading",
     "level": 2,
     "metadata": {},
     "source": [
      "Code Cells"
     ]
    },
    {
     "cell_type": "markdown",
     "metadata": {},
     "source": [
      "Code cells take Python syntax as input. We will see a lot of those shortly, when we begin our introduction to Python.  For the moment, we will highlight additional uses for code cells. "
     ]
    },
    {
     "cell_type": "heading",
     "level": 3,
     "metadata": {},
     "source": [
      "Magic Commands"
     ]
    },
    {
     "cell_type": "markdown",
     "metadata": {},
     "source": [
      "Magic commands work a lot like OS command line calls - and in fact, some are just that. To get a list of available magics:"
     ]
    },
    {
     "cell_type": "code",
     "collapsed": false,
     "input": [
      "%lsmagic"
     ],
     "language": "python",
     "metadata": {},
     "outputs": []
    },
    {
     "cell_type": "markdown",
     "metadata": {},
     "source": [
      "Notice there are line and cell magics.  Line magics take the entire line as argument, while cell magics take the cell. As 'automagic' is on, we can omit the % when making calls to line magics. "
     ]
    },
    {
     "cell_type": "code",
     "collapsed": false,
     "input": [
      "ls\n"
     ],
     "language": "python",
     "metadata": {},
     "outputs": []
    },
    {
     "cell_type": "code",
     "collapsed": false,
     "input": [
      "cp IntroductionToPython.ipynb IP2.ipynb\n"
     ],
     "language": "python",
     "metadata": {},
     "outputs": []
    },
    {
     "cell_type": "code",
     "collapsed": false,
     "input": [
      "ls"
     ],
     "language": "python",
     "metadata": {},
     "outputs": []
    },
    {
     "cell_type": "code",
     "collapsed": false,
     "input": [
      "rm IP2.ipynb"
     ],
     "language": "python",
     "metadata": {},
     "outputs": []
    },
    {
     "cell_type": "code",
     "collapsed": false,
     "input": [
      "ls\n"
     ],
     "language": "python",
     "metadata": {},
     "outputs": []
    },
    {
     "cell_type": "markdown",
     "metadata": {},
     "source": [
      "We can make all the above system calls in one cell, by using the cell magic, %%system"
     ]
    },
    {
     "cell_type": "code",
     "collapsed": false,
     "input": [
      "%%system\n",
      "cp IntroductionToPython.ipynb  IP2.ipynb\n",
      "ls\n",
      "rm IP2.ipynb\n",
      "ls"
     ],
     "language": "python",
     "metadata": {},
     "outputs": []
    },
    {
     "cell_type": "markdown",
     "metadata": {},
     "source": [
      "But magics are much more than system calls!\n",
      "We can even use R from within the IPython notebook if you install the rpy2 package\n",
      "```bash\n",
      "pip install rpy2\n",
      "```"
     ]
    },
    {
     "cell_type": "code",
     "collapsed": false,
     "input": [
      "%load_ext rpy2.ipython "
     ],
     "language": "python",
     "metadata": {},
     "outputs": []
    },
    {
     "cell_type": "code",
     "collapsed": false,
     "input": [
      "%matplotlib inline"
     ],
     "language": "python",
     "metadata": {},
     "outputs": []
    },
    {
     "cell_type": "code",
     "collapsed": false,
     "input": [
      "%%R\n",
      "library(lattice) \n",
      "attach(mtcars)\n",
      "\n",
      "# scatterplot matrix \n",
      "splom(mtcars[c(1,3,4,5,6)], main=\"MTCARS Data\")"
     ],
     "language": "python",
     "metadata": {},
     "outputs": []
    },
    {
     "cell_type": "markdown",
     "metadata": {},
     "source": [
      "Matlab works too:\n",
      "```bash\n",
      "pip install pymatbridge\n",
      "```"
     ]
    },
    {
     "cell_type": "code",
     "collapsed": false,
     "input": [
      "import pymatbridge as pymat\n",
      "ip = get_ipython()\n",
      "pymat.load_ipython_extension(ip)"
     ],
     "language": "python",
     "metadata": {},
     "outputs": []
    },
    {
     "cell_type": "code",
     "collapsed": false,
     "input": [
      "%%matlab\n",
      "\n",
      "xgv = -1.5:0.1:1.5;\n",
      "ygv = -3:0.1:3;\n",
      "[X,Y] = ndgrid(xgv,ygv);\n",
      "V = exp(-(X.^2 + Y.^2));\n",
      "surf(X,Y,V)\n",
      "title('Gridded Data Set', 'fontweight','b');"
     ],
     "language": "python",
     "metadata": {},
     "outputs": []
    },
    {
     "cell_type": "markdown",
     "metadata": {},
     "source": [
      "And it is also OK if you prefer Octave. Just type\n",
      "```bash\n",
      "pip install oct2py\n",
      "```"
     ]
    },
    {
     "cell_type": "code",
     "collapsed": false,
     "input": [
      "%load_ext octavemagic"
     ],
     "language": "python",
     "metadata": {},
     "outputs": []
    },
    {
     "cell_type": "code",
     "collapsed": false,
     "input": [
      "%%octave\n",
      "\n",
      "A = reshape(1:4,2,2)'; \n",
      "b = [36; 88];\n",
      "A\\b\n",
      "[L,U,P] = lu(A)\n",
      "[Q,R] = qr(A)\n",
      "[V,D] = eig(A)"
     ],
     "language": "python",
     "metadata": {},
     "outputs": []
    },
    {
     "cell_type": "markdown",
     "metadata": {},
     "source": [
      "### We will redo these examples in Python"
     ]
    },
    {
     "cell_type": "code",
     "collapsed": false,
     "input": [
      "import pandas as pd\n",
      "import numpy as np\n",
      "import statsmodels.api as sm \n",
      "from pandas.tools.plotting import scatter_matrix"
     ],
     "language": "python",
     "metadata": {},
     "outputs": []
    },
    {
     "cell_type": "code",
     "collapsed": false,
     "input": [
      "# First we will load the mtcars dataset and do a scatterplot matrix\n",
      "\n",
      "mtcars = sm.datasets.get_rdataset('mtcars')\n",
      "df = pd.DataFrame(mtcars.data)\n",
      "scatter_matrix(df[[0,2,3,4,5]], alpha=0.3, figsize=(8, 8), diagonal='kde', marker='o');"
     ],
     "language": "python",
     "metadata": {},
     "outputs": []
    },
    {
     "cell_type": "code",
     "collapsed": false,
     "input": [
      "# Next we will do the 3D mesh\n",
      "\n",
      "xgv = np.arange(-1.5, 1.5, 0.1)\n",
      "ygv = np.arange(-3, 3, 0.1)\n",
      "[X,Y] = np.meshgrid(xgv, ygv)\n",
      "V = np.exp(-(X**2 + Y**2))\n",
      "\n",
      "import matplotlib.pyplot as plt\n",
      "from mpl_toolkits.mplot3d import Axes3D\n",
      "fig = plt.figure(figsize=(10,6))\n",
      "ax = fig.add_subplot(111, projection='3d')\n",
      "ax.plot_surface(X, Y, V, rstride=1, cstride=1, cmap=plt.cm.jet, linewidth=0.25)\n",
      "plt.title('Gridded Data Set');"
     ],
     "language": "python",
     "metadata": {},
     "outputs": []
    },
    {
     "cell_type": "code",
     "collapsed": false,
     "input": [
      "# And finally, the matrix manipulations\n",
      "\n",
      "import scipy\n",
      "\n",
      "A = np.reshape(np.arange(1, 5), (2,2))\n",
      "b = np.array([36, 88])\n",
      "ans = scipy.linalg.solve(A, b)\n",
      "P, L, U = scipy.linalg.lu(A)\n",
      "Q, R = scipy.linalg.qr(A)\n",
      "D, V = scipy.linalg.eig(A)\n",
      "print 'ans =\\n', ans, '\\n'\n",
      "print 'L =\\n', L, '\\n'\n",
      "print \"U =\\n\", U, '\\n'\n",
      "print \"P = \\nPermutation Matrix\\n\", P, '\\n'\n",
      "print 'Q =\\n', Q, '\\n'\n",
      "print \"R =\\n\", R, '\\n'\n",
      "print 'V =\\n', V, '\\n'\n",
      "print \"D =\\nDiagonal matrix\\n\", np.diag(abs(D)), '\\n'"
     ],
     "language": "python",
     "metadata": {},
     "outputs": []
    },
    {
     "cell_type": "markdown",
     "metadata": {},
     "source": [
      "### Using Julia"
     ]
    },
    {
     "cell_type": "code",
     "collapsed": false,
     "input": [
      "%load_ext julia.magic"
     ],
     "language": "python",
     "metadata": {},
     "outputs": []
    },
    {
     "cell_type": "code",
     "collapsed": false,
     "input": [
      "%%julia\n",
      "1 + sin(3)"
     ],
     "language": "python",
     "metadata": {},
     "outputs": []
    },
    {
     "cell_type": "code",
     "collapsed": false,
     "input": [
      "%%julia\n",
      "s = 0.0\n",
      "for n = 1:2:10000\n",
      "    s += 1/n - 1/(n+1)\n",
      "end\n",
      "s # an expression on the last line (if it doesn't end with \";\") is printed as \"Out\""
     ],
     "language": "python",
     "metadata": {},
     "outputs": []
    },
    {
     "cell_type": "code",
     "collapsed": false,
     "input": [
      "%%julia\n",
      "f(x) = x + 1\n",
      "f([1,1,2,3,5,8])"
     ],
     "language": "python",
     "metadata": {},
     "outputs": []
    },
    {
     "cell_type": "markdown",
     "metadata": {},
     "source": [
      "### Using Perl"
     ]
    },
    {
     "cell_type": "code",
     "collapsed": false,
     "input": [
      "%%perl\n",
      "\n",
      "use strict;\n",
      "use warnings;\n",
      " \n",
      "print \"Hello World!\\n\";"
     ],
     "language": "python",
     "metadata": {},
     "outputs": []
    },
    {
     "cell_type": "markdown",
     "metadata": {},
     "source": [
      "We hope these give you an idea of the power and flexibility this notebook environment provides!"
     ]
    }
   ],
   "metadata": {}
  }
 ]
}